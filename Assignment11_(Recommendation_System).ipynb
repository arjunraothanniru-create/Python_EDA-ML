{
  "cells": [
    {
      "cell_type": "markdown",
      "id": "0cb90e22-2ba5-4b47-b66e-0432713da906",
      "metadata": {
        "id": "0cb90e22-2ba5-4b47-b66e-0432713da906"
      },
      "source": [
        "# Recommendation System"
      ]
    },
    {
      "cell_type": "code",
      "execution_count": null,
      "id": "a0398e92-5222-41e8-9a09-aa6ea51723c0",
      "metadata": {
        "id": "a0398e92-5222-41e8-9a09-aa6ea51723c0"
      },
      "outputs": [],
      "source": [
        "import numpy as np\n",
        "import pandas as pd\n",
        "import matplotlib.pyplot as plt\n",
        "import seaborn as sns"
      ]
    },
    {
      "cell_type": "code",
      "execution_count": null,
      "id": "93bb1a16-eff6-484f-b844-92b23b6e2428",
      "metadata": {
        "id": "93bb1a16-eff6-484f-b844-92b23b6e2428"
      },
      "outputs": [],
      "source": [
        "df = pd.read_csv('anime.csv')"
      ]
    },
    {
      "cell_type": "code",
      "execution_count": null,
      "id": "c614f41f-d3a2-4147-ad2e-a5502642f97e",
      "metadata": {
        "id": "c614f41f-d3a2-4147-ad2e-a5502642f97e",
        "outputId": "ad59e7f5-1f86-40dd-8b3f-47fae7cae0cc"
      },
      "outputs": [
        {
          "data": {
            "text/html": [
              "<div>\n",
              "<style scoped>\n",
              "    .dataframe tbody tr th:only-of-type {\n",
              "        vertical-align: middle;\n",
              "    }\n",
              "\n",
              "    .dataframe tbody tr th {\n",
              "        vertical-align: top;\n",
              "    }\n",
              "\n",
              "    .dataframe thead th {\n",
              "        text-align: right;\n",
              "    }\n",
              "</style>\n",
              "<table border=\"1\" class=\"dataframe\">\n",
              "  <thead>\n",
              "    <tr style=\"text-align: right;\">\n",
              "      <th></th>\n",
              "      <th>anime_id</th>\n",
              "      <th>name</th>\n",
              "      <th>genre</th>\n",
              "      <th>type</th>\n",
              "      <th>episodes</th>\n",
              "      <th>rating</th>\n",
              "      <th>members</th>\n",
              "    </tr>\n",
              "  </thead>\n",
              "  <tbody>\n",
              "    <tr>\n",
              "      <th>0</th>\n",
              "      <td>32281</td>\n",
              "      <td>Kimi no Na wa.</td>\n",
              "      <td>Drama, Romance, School, Supernatural</td>\n",
              "      <td>Movie</td>\n",
              "      <td>1</td>\n",
              "      <td>9.37</td>\n",
              "      <td>200630</td>\n",
              "    </tr>\n",
              "    <tr>\n",
              "      <th>1</th>\n",
              "      <td>5114</td>\n",
              "      <td>Fullmetal Alchemist: Brotherhood</td>\n",
              "      <td>Action, Adventure, Drama, Fantasy, Magic, Mili...</td>\n",
              "      <td>TV</td>\n",
              "      <td>64</td>\n",
              "      <td>9.26</td>\n",
              "      <td>793665</td>\n",
              "    </tr>\n",
              "    <tr>\n",
              "      <th>2</th>\n",
              "      <td>28977</td>\n",
              "      <td>Gintama°</td>\n",
              "      <td>Action, Comedy, Historical, Parody, Samurai, S...</td>\n",
              "      <td>TV</td>\n",
              "      <td>51</td>\n",
              "      <td>9.25</td>\n",
              "      <td>114262</td>\n",
              "    </tr>\n",
              "    <tr>\n",
              "      <th>3</th>\n",
              "      <td>9253</td>\n",
              "      <td>Steins;Gate</td>\n",
              "      <td>Sci-Fi, Thriller</td>\n",
              "      <td>TV</td>\n",
              "      <td>24</td>\n",
              "      <td>9.17</td>\n",
              "      <td>673572</td>\n",
              "    </tr>\n",
              "    <tr>\n",
              "      <th>4</th>\n",
              "      <td>9969</td>\n",
              "      <td>Gintama&amp;#039;</td>\n",
              "      <td>Action, Comedy, Historical, Parody, Samurai, S...</td>\n",
              "      <td>TV</td>\n",
              "      <td>51</td>\n",
              "      <td>9.16</td>\n",
              "      <td>151266</td>\n",
              "    </tr>\n",
              "  </tbody>\n",
              "</table>\n",
              "</div>"
            ],
            "text/plain": [
              "   anime_id                              name  \\\n",
              "0     32281                    Kimi no Na wa.   \n",
              "1      5114  Fullmetal Alchemist: Brotherhood   \n",
              "2     28977                          Gintama°   \n",
              "3      9253                       Steins;Gate   \n",
              "4      9969                     Gintama&#039;   \n",
              "\n",
              "                                               genre   type episodes  rating  \\\n",
              "0               Drama, Romance, School, Supernatural  Movie        1    9.37   \n",
              "1  Action, Adventure, Drama, Fantasy, Magic, Mili...     TV       64    9.26   \n",
              "2  Action, Comedy, Historical, Parody, Samurai, S...     TV       51    9.25   \n",
              "3                                   Sci-Fi, Thriller     TV       24    9.17   \n",
              "4  Action, Comedy, Historical, Parody, Samurai, S...     TV       51    9.16   \n",
              "\n",
              "   members  \n",
              "0   200630  \n",
              "1   793665  \n",
              "2   114262  \n",
              "3   673572  \n",
              "4   151266  "
            ]
          },
          "execution_count": 25,
          "metadata": {},
          "output_type": "execute_result"
        }
      ],
      "source": [
        "df.head()"
      ]
    },
    {
      "cell_type": "code",
      "execution_count": null,
      "id": "d9c1277f-33d1-4b5f-a3eb-0e65ef812296",
      "metadata": {
        "id": "d9c1277f-33d1-4b5f-a3eb-0e65ef812296",
        "outputId": "8060b606-9d92-4bc9-8b25-5d62b703f8d5"
      },
      "outputs": [
        {
          "data": {
            "text/plain": [
              "(12294, 7)"
            ]
          },
          "execution_count": 26,
          "metadata": {},
          "output_type": "execute_result"
        }
      ],
      "source": [
        "df.shape"
      ]
    },
    {
      "cell_type": "markdown",
      "id": "39c0a895-05e7-4abd-b7f8-2120bb7074bf",
      "metadata": {
        "id": "39c0a895-05e7-4abd-b7f8-2120bb7074bf"
      },
      "source": [
        "### Data Preprocessing"
      ]
    },
    {
      "cell_type": "code",
      "execution_count": null,
      "id": "9027c3b0-7016-4180-87f8-1c890d6cbd0e",
      "metadata": {
        "id": "9027c3b0-7016-4180-87f8-1c890d6cbd0e",
        "outputId": "fd5a2e84-4614-4b65-8e6e-d7b7c8a026c3"
      },
      "outputs": [
        {
          "name": "stdout",
          "output_type": "stream",
          "text": [
            "<class 'pandas.core.frame.DataFrame'>\n",
            "RangeIndex: 12294 entries, 0 to 12293\n",
            "Data columns (total 7 columns):\n",
            " #   Column    Non-Null Count  Dtype  \n",
            "---  ------    --------------  -----  \n",
            " 0   anime_id  12294 non-null  int64  \n",
            " 1   name      12294 non-null  object \n",
            " 2   genre     12232 non-null  object \n",
            " 3   type      12269 non-null  object \n",
            " 4   episodes  12294 non-null  object \n",
            " 5   rating    12064 non-null  float64\n",
            " 6   members   12294 non-null  int64  \n",
            "dtypes: float64(1), int64(2), object(4)\n",
            "memory usage: 672.5+ KB\n"
          ]
        }
      ],
      "source": [
        "df.info()"
      ]
    },
    {
      "cell_type": "code",
      "execution_count": null,
      "id": "8d7ef664-5ebf-42b8-b414-255c53415d0d",
      "metadata": {
        "id": "8d7ef664-5ebf-42b8-b414-255c53415d0d",
        "outputId": "fd6c8b59-a1fc-4a49-ab8d-4c2d748232f9"
      },
      "outputs": [
        {
          "data": {
            "text/plain": [
              "anime_id      0\n",
              "name          0\n",
              "genre        62\n",
              "type         25\n",
              "episodes      0\n",
              "rating      230\n",
              "members       0\n",
              "dtype: int64"
            ]
          },
          "execution_count": 28,
          "metadata": {},
          "output_type": "execute_result"
        }
      ],
      "source": [
        "df.isnull().sum()"
      ]
    },
    {
      "cell_type": "code",
      "execution_count": null,
      "id": "f8c98877-8001-46bd-b0cd-57392e9ead0d",
      "metadata": {
        "id": "f8c98877-8001-46bd-b0cd-57392e9ead0d"
      },
      "outputs": [],
      "source": [
        "df1 = df.dropna()"
      ]
    },
    {
      "cell_type": "code",
      "execution_count": null,
      "id": "f7df8361-198c-4624-b76c-9fa45aae6cc7",
      "metadata": {
        "id": "f7df8361-198c-4624-b76c-9fa45aae6cc7",
        "outputId": "98b4bb0f-a53c-40a5-8d23-6ee0f71c6768"
      },
      "outputs": [
        {
          "data": {
            "text/plain": [
              "anime_id    0\n",
              "name        0\n",
              "genre       0\n",
              "type        0\n",
              "episodes    0\n",
              "rating      0\n",
              "members     0\n",
              "dtype: int64"
            ]
          },
          "execution_count": 30,
          "metadata": {},
          "output_type": "execute_result"
        }
      ],
      "source": [
        "df1.isnull().sum()"
      ]
    },
    {
      "cell_type": "code",
      "execution_count": null,
      "id": "0c32aca3-c148-4092-b93e-d09fb4f95778",
      "metadata": {
        "id": "0c32aca3-c148-4092-b93e-d09fb4f95778",
        "outputId": "8a41c825-260f-4f2f-b90c-f4d27a13113f"
      },
      "outputs": [
        {
          "data": {
            "text/plain": [
              "np.int64(0)"
            ]
          },
          "execution_count": 31,
          "metadata": {},
          "output_type": "execute_result"
        }
      ],
      "source": [
        "df1.duplicated().sum()"
      ]
    },
    {
      "cell_type": "code",
      "execution_count": null,
      "id": "4c7a656c-86d1-46a4-9c80-c1994d0a452c",
      "metadata": {
        "id": "4c7a656c-86d1-46a4-9c80-c1994d0a452c",
        "outputId": "2c09849d-5d6d-4dde-db0e-ea22eac8c63a"
      },
      "outputs": [
        {
          "data": {
            "text/plain": [
              "(12017, 7)"
            ]
          },
          "execution_count": 32,
          "metadata": {},
          "output_type": "execute_result"
        }
      ],
      "source": [
        "df1.shape"
      ]
    },
    {
      "cell_type": "code",
      "execution_count": null,
      "id": "8d52603a-470b-4bce-b584-3b3b375cd1eb",
      "metadata": {
        "id": "8d52603a-470b-4bce-b584-3b3b375cd1eb",
        "outputId": "b3048a25-e431-4449-908d-b6f4010e49fe"
      },
      "outputs": [
        {
          "data": {
            "text/plain": [
              "Index(['anime_id', 'name', 'genre', 'type', 'episodes', 'rating', 'members'], dtype='object')"
            ]
          },
          "execution_count": 33,
          "metadata": {},
          "output_type": "execute_result"
        }
      ],
      "source": [
        "df1.columns"
      ]
    },
    {
      "cell_type": "code",
      "execution_count": null,
      "id": "3c80d4c5-8fef-47c3-a84b-a13531b9653b",
      "metadata": {
        "id": "3c80d4c5-8fef-47c3-a84b-a13531b9653b",
        "outputId": "4ed857a6-89e4-4bd9-cc99-dfe1605a13e7"
      },
      "outputs": [
        {
          "name": "stdout",
          "output_type": "stream",
          "text": [
            "<class 'pandas.core.frame.DataFrame'>\n",
            "Index: 12017 entries, 0 to 12293\n",
            "Data columns (total 7 columns):\n",
            " #   Column    Non-Null Count  Dtype  \n",
            "---  ------    --------------  -----  \n",
            " 0   anime_id  12017 non-null  int64  \n",
            " 1   name      12017 non-null  object \n",
            " 2   genre     12017 non-null  object \n",
            " 3   type      12017 non-null  object \n",
            " 4   episodes  12017 non-null  object \n",
            " 5   rating    12017 non-null  float64\n",
            " 6   members   12017 non-null  int64  \n",
            "dtypes: float64(1), int64(2), object(4)\n",
            "memory usage: 751.1+ KB\n"
          ]
        }
      ],
      "source": [
        "df1.info()"
      ]
    },
    {
      "cell_type": "code",
      "execution_count": null,
      "id": "858ef052-5b28-412a-b94c-30ac916b73ac",
      "metadata": {
        "id": "858ef052-5b28-412a-b94c-30ac916b73ac",
        "outputId": "25d59094-424b-469a-c741-ef7ba70f78f0"
      },
      "outputs": [
        {
          "data": {
            "text/html": [
              "<div>\n",
              "<style scoped>\n",
              "    .dataframe tbody tr th:only-of-type {\n",
              "        vertical-align: middle;\n",
              "    }\n",
              "\n",
              "    .dataframe tbody tr th {\n",
              "        vertical-align: top;\n",
              "    }\n",
              "\n",
              "    .dataframe thead th {\n",
              "        text-align: right;\n",
              "    }\n",
              "</style>\n",
              "<table border=\"1\" class=\"dataframe\">\n",
              "  <thead>\n",
              "    <tr style=\"text-align: right;\">\n",
              "      <th></th>\n",
              "      <th>anime_id</th>\n",
              "      <th>rating</th>\n",
              "      <th>members</th>\n",
              "    </tr>\n",
              "  </thead>\n",
              "  <tbody>\n",
              "    <tr>\n",
              "      <th>count</th>\n",
              "      <td>12017.000000</td>\n",
              "      <td>12017.000000</td>\n",
              "      <td>1.201700e+04</td>\n",
              "    </tr>\n",
              "    <tr>\n",
              "      <th>mean</th>\n",
              "      <td>13638.001165</td>\n",
              "      <td>6.478264</td>\n",
              "      <td>1.834888e+04</td>\n",
              "    </tr>\n",
              "    <tr>\n",
              "      <th>std</th>\n",
              "      <td>11231.076675</td>\n",
              "      <td>1.023857</td>\n",
              "      <td>5.537250e+04</td>\n",
              "    </tr>\n",
              "    <tr>\n",
              "      <th>min</th>\n",
              "      <td>1.000000</td>\n",
              "      <td>1.670000</td>\n",
              "      <td>1.200000e+01</td>\n",
              "    </tr>\n",
              "    <tr>\n",
              "      <th>25%</th>\n",
              "      <td>3391.000000</td>\n",
              "      <td>5.890000</td>\n",
              "      <td>2.250000e+02</td>\n",
              "    </tr>\n",
              "    <tr>\n",
              "      <th>50%</th>\n",
              "      <td>9959.000000</td>\n",
              "      <td>6.570000</td>\n",
              "      <td>1.552000e+03</td>\n",
              "    </tr>\n",
              "    <tr>\n",
              "      <th>75%</th>\n",
              "      <td>23729.000000</td>\n",
              "      <td>7.180000</td>\n",
              "      <td>9.588000e+03</td>\n",
              "    </tr>\n",
              "    <tr>\n",
              "      <th>max</th>\n",
              "      <td>34519.000000</td>\n",
              "      <td>10.000000</td>\n",
              "      <td>1.013917e+06</td>\n",
              "    </tr>\n",
              "  </tbody>\n",
              "</table>\n",
              "</div>"
            ],
            "text/plain": [
              "           anime_id        rating       members\n",
              "count  12017.000000  12017.000000  1.201700e+04\n",
              "mean   13638.001165      6.478264  1.834888e+04\n",
              "std    11231.076675      1.023857  5.537250e+04\n",
              "min        1.000000      1.670000  1.200000e+01\n",
              "25%     3391.000000      5.890000  2.250000e+02\n",
              "50%     9959.000000      6.570000  1.552000e+03\n",
              "75%    23729.000000      7.180000  9.588000e+03\n",
              "max    34519.000000     10.000000  1.013917e+06"
            ]
          },
          "execution_count": 35,
          "metadata": {},
          "output_type": "execute_result"
        }
      ],
      "source": [
        "df1.describe()"
      ]
    },
    {
      "cell_type": "code",
      "execution_count": null,
      "id": "fce543c1-495f-4c4e-86c9-2ed1c9aff401",
      "metadata": {
        "id": "fce543c1-495f-4c4e-86c9-2ed1c9aff401",
        "outputId": "1c88434a-654b-4357-9f5b-13f6580c6185"
      },
      "outputs": [
        {
          "data": {
            "text/plain": [
              "anime_id    12017\n",
              "name        12015\n",
              "genre        3229\n",
              "type            6\n",
              "episodes      187\n",
              "rating        598\n",
              "members      6596\n",
              "dtype: int64"
            ]
          },
          "execution_count": 36,
          "metadata": {},
          "output_type": "execute_result"
        }
      ],
      "source": [
        "df1.nunique()"
      ]
    },
    {
      "cell_type": "code",
      "execution_count": null,
      "id": "f0eeda9f-cc54-45e7-9f69-3a39878bb810",
      "metadata": {
        "id": "f0eeda9f-cc54-45e7-9f69-3a39878bb810",
        "outputId": "dc24b158-db10-418f-9d6b-8eeae8a2f01c"
      },
      "outputs": [
        {
          "data": {
            "text/plain": [
              "genre\n",
              "Hentai                                 816\n",
              "Comedy                                 521\n",
              "Music                                  297\n",
              "Kids                                   197\n",
              "Comedy, Slice of Life                  174\n",
              "                                      ... \n",
              "Action, Hentai, Mecha, Sci-Fi, Yaoi      1\n",
              "Adventure, Fantasy, Hentai               1\n",
              "Hentai, Horror, Yaoi                     1\n",
              "Hentai, Space                            1\n",
              "Drama, Hentai, Mystery, Romance          1\n",
              "Name: count, Length: 3229, dtype: int64"
            ]
          },
          "execution_count": 37,
          "metadata": {},
          "output_type": "execute_result"
        }
      ],
      "source": [
        "df1['genre'].value_counts()"
      ]
    },
    {
      "cell_type": "markdown",
      "id": "fa526976-801e-4837-a11b-0e05cca4f5a5",
      "metadata": {
        "id": "fa526976-801e-4837-a11b-0e05cca4f5a5"
      },
      "source": [
        "### Feature Extraction"
      ]
    },
    {
      "cell_type": "code",
      "execution_count": null,
      "id": "1f87e664-ea4a-4c79-b232-823cbc483eed",
      "metadata": {
        "id": "1f87e664-ea4a-4c79-b232-823cbc483eed"
      },
      "outputs": [],
      "source": [
        "genres = df1['genre'].str.get_dummies(sep=', ')\n",
        "df_numerical = pd.concat([df1.drop('genre', axis=1), genres], axis=1)"
      ]
    },
    {
      "cell_type": "code",
      "execution_count": null,
      "id": "b8dd1def-bc5c-4ace-b7a7-40c35f1dc54f",
      "metadata": {
        "id": "b8dd1def-bc5c-4ace-b7a7-40c35f1dc54f",
        "outputId": "b8b7972d-6c6c-4ae0-8eeb-9234a36ec57b"
      },
      "outputs": [
        {
          "data": {
            "text/html": [
              "<div>\n",
              "<style scoped>\n",
              "    .dataframe tbody tr th:only-of-type {\n",
              "        vertical-align: middle;\n",
              "    }\n",
              "\n",
              "    .dataframe tbody tr th {\n",
              "        vertical-align: top;\n",
              "    }\n",
              "\n",
              "    .dataframe thead th {\n",
              "        text-align: right;\n",
              "    }\n",
              "</style>\n",
              "<table border=\"1\" class=\"dataframe\">\n",
              "  <thead>\n",
              "    <tr style=\"text-align: right;\">\n",
              "      <th></th>\n",
              "      <th>anime_id</th>\n",
              "      <th>name</th>\n",
              "      <th>type</th>\n",
              "      <th>episodes</th>\n",
              "      <th>rating</th>\n",
              "      <th>members</th>\n",
              "      <th>Action</th>\n",
              "      <th>Adventure</th>\n",
              "      <th>Cars</th>\n",
              "      <th>Comedy</th>\n",
              "      <th>...</th>\n",
              "      <th>Shounen Ai</th>\n",
              "      <th>Slice of Life</th>\n",
              "      <th>Space</th>\n",
              "      <th>Sports</th>\n",
              "      <th>Super Power</th>\n",
              "      <th>Supernatural</th>\n",
              "      <th>Thriller</th>\n",
              "      <th>Vampire</th>\n",
              "      <th>Yaoi</th>\n",
              "      <th>Yuri</th>\n",
              "    </tr>\n",
              "  </thead>\n",
              "  <tbody>\n",
              "    <tr>\n",
              "      <th>0</th>\n",
              "      <td>32281</td>\n",
              "      <td>Kimi no Na wa.</td>\n",
              "      <td>Movie</td>\n",
              "      <td>1</td>\n",
              "      <td>2.824474</td>\n",
              "      <td>3.292044</td>\n",
              "      <td>0</td>\n",
              "      <td>0</td>\n",
              "      <td>0</td>\n",
              "      <td>0</td>\n",
              "      <td>...</td>\n",
              "      <td>0</td>\n",
              "      <td>0</td>\n",
              "      <td>0</td>\n",
              "      <td>0</td>\n",
              "      <td>0</td>\n",
              "      <td>1</td>\n",
              "      <td>0</td>\n",
              "      <td>0</td>\n",
              "      <td>0</td>\n",
              "      <td>0</td>\n",
              "    </tr>\n",
              "    <tr>\n",
              "      <th>1</th>\n",
              "      <td>5114</td>\n",
              "      <td>Fullmetal Alchemist: Brotherhood</td>\n",
              "      <td>TV</td>\n",
              "      <td>64</td>\n",
              "      <td>2.717032</td>\n",
              "      <td>14.002410</td>\n",
              "      <td>1</td>\n",
              "      <td>1</td>\n",
              "      <td>0</td>\n",
              "      <td>0</td>\n",
              "      <td>...</td>\n",
              "      <td>0</td>\n",
              "      <td>0</td>\n",
              "      <td>0</td>\n",
              "      <td>0</td>\n",
              "      <td>0</td>\n",
              "      <td>0</td>\n",
              "      <td>0</td>\n",
              "      <td>0</td>\n",
              "      <td>0</td>\n",
              "      <td>0</td>\n",
              "    </tr>\n",
              "    <tr>\n",
              "      <th>2</th>\n",
              "      <td>28977</td>\n",
              "      <td>Gintama°</td>\n",
              "      <td>TV</td>\n",
              "      <td>51</td>\n",
              "      <td>2.707265</td>\n",
              "      <td>1.732216</td>\n",
              "      <td>1</td>\n",
              "      <td>0</td>\n",
              "      <td>0</td>\n",
              "      <td>1</td>\n",
              "      <td>...</td>\n",
              "      <td>0</td>\n",
              "      <td>0</td>\n",
              "      <td>0</td>\n",
              "      <td>0</td>\n",
              "      <td>0</td>\n",
              "      <td>0</td>\n",
              "      <td>0</td>\n",
              "      <td>0</td>\n",
              "      <td>0</td>\n",
              "      <td>0</td>\n",
              "    </tr>\n",
              "    <tr>\n",
              "      <th>3</th>\n",
              "      <td>9253</td>\n",
              "      <td>Steins;Gate</td>\n",
              "      <td>TV</td>\n",
              "      <td>24</td>\n",
              "      <td>2.629126</td>\n",
              "      <td>11.833499</td>\n",
              "      <td>0</td>\n",
              "      <td>0</td>\n",
              "      <td>0</td>\n",
              "      <td>0</td>\n",
              "      <td>...</td>\n",
              "      <td>0</td>\n",
              "      <td>0</td>\n",
              "      <td>0</td>\n",
              "      <td>0</td>\n",
              "      <td>0</td>\n",
              "      <td>0</td>\n",
              "      <td>1</td>\n",
              "      <td>0</td>\n",
              "      <td>0</td>\n",
              "      <td>0</td>\n",
              "    </tr>\n",
              "    <tr>\n",
              "      <th>4</th>\n",
              "      <td>9969</td>\n",
              "      <td>Gintama&amp;#039;</td>\n",
              "      <td>TV</td>\n",
              "      <td>51</td>\n",
              "      <td>2.619358</td>\n",
              "      <td>2.400518</td>\n",
              "      <td>1</td>\n",
              "      <td>0</td>\n",
              "      <td>0</td>\n",
              "      <td>1</td>\n",
              "      <td>...</td>\n",
              "      <td>0</td>\n",
              "      <td>0</td>\n",
              "      <td>0</td>\n",
              "      <td>0</td>\n",
              "      <td>0</td>\n",
              "      <td>0</td>\n",
              "      <td>0</td>\n",
              "      <td>0</td>\n",
              "      <td>0</td>\n",
              "      <td>0</td>\n",
              "    </tr>\n",
              "  </tbody>\n",
              "</table>\n",
              "<p>5 rows × 49 columns</p>\n",
              "</div>"
            ],
            "text/plain": [
              "   anime_id                              name   type episodes    rating  \\\n",
              "0     32281                    Kimi no Na wa.  Movie        1  2.824474   \n",
              "1      5114  Fullmetal Alchemist: Brotherhood     TV       64  2.717032   \n",
              "2     28977                          Gintama°     TV       51  2.707265   \n",
              "3      9253                       Steins;Gate     TV       24  2.629126   \n",
              "4      9969                     Gintama&#039;     TV       51  2.619358   \n",
              "\n",
              "     members  Action  Adventure  Cars  Comedy  ...  Shounen Ai  Slice of Life  \\\n",
              "0   3.292044       0          0     0       0  ...           0              0   \n",
              "1  14.002410       1          1     0       0  ...           0              0   \n",
              "2   1.732216       1          0     0       1  ...           0              0   \n",
              "3  11.833499       0          0     0       0  ...           0              0   \n",
              "4   2.400518       1          0     0       1  ...           0              0   \n",
              "\n",
              "   Space  Sports  Super Power  Supernatural  Thriller  Vampire  Yaoi  Yuri  \n",
              "0      0       0            0             1         0        0     0     0  \n",
              "1      0       0            0             0         0        0     0     0  \n",
              "2      0       0            0             0         0        0     0     0  \n",
              "3      0       0            0             0         1        0     0     0  \n",
              "4      0       0            0             0         0        0     0     0  \n",
              "\n",
              "[5 rows x 49 columns]"
            ]
          },
          "execution_count": 40,
          "metadata": {},
          "output_type": "execute_result"
        }
      ],
      "source": [
        "from sklearn.preprocessing import StandardScaler\n",
        "scaler = StandardScaler()\n",
        "numerical_cols = ['rating', 'members']\n",
        "df_numerical[numerical_cols] = scaler.fit_transform(df_numerical[numerical_cols])\n",
        "df_numerical.head()"
      ]
    },
    {
      "cell_type": "markdown",
      "id": "282d87d2-96fa-4c6c-9ba0-836fa0da8d27",
      "metadata": {
        "id": "282d87d2-96fa-4c6c-9ba0-836fa0da8d27"
      },
      "source": [
        "### Recommendation System"
      ]
    },
    {
      "cell_type": "code",
      "execution_count": null,
      "id": "64548eca-4ae5-4854-8b82-8987924b6593",
      "metadata": {
        "id": "64548eca-4ae5-4854-8b82-8987924b6593"
      },
      "outputs": [],
      "source": [
        "from sklearn.metrics.pairwise import cosine_similarity\n",
        "def recommend_similar_anime(target_anime, threshold=0.5):\n",
        "    target_row = df_numerical[df_numerical['name'] == target_anime].drop(['name', 'type'], axis=1)   #find the row corresponding to the target anime\n",
        "    df_numerical['episodes'] = pd.to_numeric(df_numerical['episodes'], errors='coerce')  #replace 'Unknown' values in 'episodes' column with NaN\n",
        "    df_numerical.dropna(subset=['episodes'], inplace=True)  #drop rows with NaN values in 'episodes' column\n",
        "    similarities = cosine_similarity(target_row, df_numerical.drop(['name', 'type'], axis=1))  #compute cosine similarity between target anime and all other anime\n",
        "    similar_anime_indices = np.where(similarities > threshold)[1]  #get indices of anime with similarity above threshold\n",
        "    similar_anime_indices = similar_anime_indices[similar_anime_indices != target_row.index[0]]  #exclude the target anime itself from recommendations\n",
        "    recommended_anime = df_numerical.iloc[similar_anime_indices]['name'].tolist()  #get names of recommended anime\n",
        "    return recommended_anime"
      ]
    },
    {
      "cell_type": "code",
      "execution_count": null,
      "id": "71a4db48-d171-4bfd-bf9a-64d08adf644e",
      "metadata": {
        "id": "71a4db48-d171-4bfd-bf9a-64d08adf644e",
        "outputId": "594d212c-a567-480d-e010-124f827f6f8f"
      },
      "outputs": [
        {
          "name": "stdout",
          "output_type": "stream",
          "text": [
            "\n",
            "Recommendations for threshold 0.2:\n",
            "Recommended anime similar to 'Nana':\n",
            "                                       Recommended Anime\n",
            "0                                         Kimi no Na wa.\n",
            "1                       Fullmetal Alchemist: Brotherhood\n",
            "2                                               Gintama°\n",
            "3                                            Steins;Gate\n",
            "4                                          Gintama&#039;\n",
            "...                                                  ...\n",
            "11820       Toushindai My Lover: Minami tai Mecha-Minami\n",
            "11821                                        Under World\n",
            "11822                     Violence Gekiga David no Hoshi\n",
            "11823  Violence Gekiga Shin David no Hoshi: Inma Dens...\n",
            "11824                   Yasuji no Pornorama: Yacchimae!!\n",
            "\n",
            "[11825 rows x 1 columns]\n",
            "\n",
            "Number of recommendations: 11825\n",
            "\n",
            "Value counts of recommended anime:\n",
            "Recommended Anime\n",
            "Saru Kani Gassen                       2\n",
            "Shi Wan Ge Leng Xiaohua                2\n",
            "Nudl Nude                              1\n",
            "Sen to Chihiro no Kamikakushi          1\n",
            "Yasuji no Pornorama: Yacchimae!!       1\n",
            "                                      ..\n",
            "Manga Edo Erobanashi                   1\n",
            "Milky Gal: Cats Ai                     1\n",
            "Misato-chan no Yume Nikki              1\n",
            "Nijuusou: Wana ni Ochita Onna-tachi    1\n",
            "Classical Sex-Zone                     1\n",
            "Name: count, Length: 11823, dtype: int64\n",
            "\n",
            "Top 5 recommendations:\n",
            "Recommended Anime\n",
            "Saru Kani Gassen                    2\n",
            "Shi Wan Ge Leng Xiaohua             2\n",
            "Nudl Nude                           1\n",
            "Sen to Chihiro no Kamikakushi       1\n",
            "Yasuji no Pornorama: Yacchimae!!    1\n",
            "Name: count, dtype: int64\n",
            "\n",
            "Recommendations for threshold 0.5:\n",
            "Recommended anime similar to 'Nana':\n",
            "                                       Recommended Anime\n",
            "0                                         Kimi no Na wa.\n",
            "1                       Fullmetal Alchemist: Brotherhood\n",
            "2                                               Gintama°\n",
            "3                                            Steins;Gate\n",
            "4                                          Gintama&#039;\n",
            "...                                                  ...\n",
            "11813       Toushindai My Lover: Minami tai Mecha-Minami\n",
            "11814                                        Under World\n",
            "11815                     Violence Gekiga David no Hoshi\n",
            "11816  Violence Gekiga Shin David no Hoshi: Inma Dens...\n",
            "11817                   Yasuji no Pornorama: Yacchimae!!\n",
            "\n",
            "[11818 rows x 1 columns]\n",
            "\n",
            "Number of recommendations: 11818\n",
            "\n",
            "Value counts of recommended anime:\n",
            "Recommended Anime\n",
            "Saru Kani Gassen                                             2\n",
            "Shi Wan Ge Leng Xiaohua                                      2\n",
            "Gintama&#039;                                                1\n",
            "Haikyuu!!: Karasuno Koukou VS Shiratorizawa Gakuen Koukou    1\n",
            "Hunter x Hunter (2011)                                       1\n",
            "                                                            ..\n",
            "Manga Edo Erobanashi                                         1\n",
            "Milky Gal: Cats Ai                                           1\n",
            "Misato-chan no Yume Nikki                                    1\n",
            "Nijuusou: Wana ni Ochita Onna-tachi                          1\n",
            "Fullmetal Alchemist: Brotherhood                             1\n",
            "Name: count, Length: 11816, dtype: int64\n",
            "\n",
            "Top 5 recommendations:\n",
            "Recommended Anime\n",
            "Saru Kani Gassen                                             2\n",
            "Shi Wan Ge Leng Xiaohua                                      2\n",
            "Gintama&#039;                                                1\n",
            "Haikyuu!!: Karasuno Koukou VS Shiratorizawa Gakuen Koukou    1\n",
            "Hunter x Hunter (2011)                                       1\n",
            "Name: count, dtype: int64\n",
            "\n",
            "Recommendations for threshold 0.9:\n",
            "Recommended anime similar to 'Nana':\n",
            "                                       Recommended Anime\n",
            "0                                         Kimi no Na wa.\n",
            "1                       Fullmetal Alchemist: Brotherhood\n",
            "2                                               Gintama°\n",
            "3                                            Steins;Gate\n",
            "4                                          Gintama&#039;\n",
            "...                                                  ...\n",
            "11790       Toushindai My Lover: Minami tai Mecha-Minami\n",
            "11791                                        Under World\n",
            "11792                     Violence Gekiga David no Hoshi\n",
            "11793  Violence Gekiga Shin David no Hoshi: Inma Dens...\n",
            "11794                   Yasuji no Pornorama: Yacchimae!!\n",
            "\n",
            "[11795 rows x 1 columns]\n",
            "\n",
            "Number of recommendations: 11795\n",
            "\n",
            "Value counts of recommended anime:\n",
            "Recommended Anime\n",
            "Saru Kani Gassen                                     2\n",
            "Shi Wan Ge Leng Xiaohua                              2\n",
            "Onna Spy Goumon: Teki no Ajito wa Jotai Goumonsho    1\n",
            "Original C-V-P Momoko                                1\n",
            "Original Video Romance Animation                     1\n",
            "                                                    ..\n",
            "Manga Edo Erobanashi                                 1\n",
            "Milky Gal: Cats Ai                                   1\n",
            "Misato-chan no Yume Nikki                            1\n",
            "Nijuusou: Wana ni Ochita Onna-tachi                  1\n",
            "Classical Sex-Zone                                   1\n",
            "Name: count, Length: 11793, dtype: int64\n",
            "\n",
            "Top 5 recommendations:\n",
            "Recommended Anime\n",
            "Saru Kani Gassen                                     2\n",
            "Shi Wan Ge Leng Xiaohua                              2\n",
            "Onna Spy Goumon: Teki no Ajito wa Jotai Goumonsho    1\n",
            "Original C-V-P Momoko                                1\n",
            "Original Video Romance Animation                     1\n",
            "Name: count, dtype: int64\n"
          ]
        }
      ],
      "source": [
        "threshold_values = [0.2, 0.5, 0.9]\n",
        "target_anime = 'Nana'\n",
        "\n",
        "for threshold in threshold_values:\n",
        "    recommended_anime = recommend_similar_anime(target_anime, threshold=threshold)  #get recommendations for the current threshold\n",
        "    df_recommendations = pd.DataFrame(recommended_anime, columns=['Recommended Anime'])   #create a DataFrame to display the recommended anime\n",
        "\n",
        "    num_recommendations = len(recommended_anime)\n",
        "    value_counts = df_recommendations['Recommended Anime'].value_counts()\n",
        "    top_5_recommendations = value_counts.head(5)\n",
        "\n",
        "    #display the information for the current threshold\n",
        "    print(f\"\\nRecommendations for threshold {threshold}:\")\n",
        "    print(\"Recommended anime similar to '{}':\".format(target_anime))\n",
        "    print(df_recommendations)\n",
        "    print(\"\\nNumber of recommendations:\", num_recommendations)\n",
        "    print(\"\\nValue counts of recommended anime:\")\n",
        "    print(value_counts)\n",
        "    print(\"\\nTop 5 recommendations:\")\n",
        "    print(top_5_recommendations)"
      ]
    },
    {
      "cell_type": "code",
      "execution_count": null,
      "id": "b4506a74-8601-4321-b51f-22a50fb98028",
      "metadata": {
        "id": "b4506a74-8601-4321-b51f-22a50fb98028",
        "outputId": "553bedb8-49f5-4c1c-ed5f-13aeafca6809"
      },
      "outputs": [
        {
          "name": "stdout",
          "output_type": "stream",
          "text": [
            "\n",
            "Recommendations for threshold 0.2:\n",
            "Recommended anime similar to 'Kimi no Na wa.':\n",
            "                                       Recommended Anime\n",
            "0                       Fullmetal Alchemist: Brotherhood\n",
            "1                                               Gintama°\n",
            "2                                            Steins;Gate\n",
            "3                                          Gintama&#039;\n",
            "4      Haikyuu!!: Karasuno Koukou VS Shiratorizawa Ga...\n",
            "...                                                  ...\n",
            "11819       Toushindai My Lover: Minami tai Mecha-Minami\n",
            "11820                                        Under World\n",
            "11821                     Violence Gekiga David no Hoshi\n",
            "11822  Violence Gekiga Shin David no Hoshi: Inma Dens...\n",
            "11823                   Yasuji no Pornorama: Yacchimae!!\n",
            "\n",
            "[11824 rows x 1 columns]\n",
            "\n",
            "Number of recommendations: 11824\n",
            "\n",
            "Value counts of recommended anime:\n",
            "Recommended Anime\n",
            "Saru Kani Gassen                       2\n",
            "Shi Wan Ge Leng Xiaohua                2\n",
            "Nudl Nude 2                            1\n",
            "Nudl Nude                              1\n",
            "Sen to Chihiro no Kamikakushi          1\n",
            "                                      ..\n",
            "Manga Edo Erobanashi                   1\n",
            "Milky Gal: Cats Ai                     1\n",
            "Misato-chan no Yume Nikki              1\n",
            "Nijuusou: Wana ni Ochita Onna-tachi    1\n",
            "Haikyuu!! Second Season                1\n",
            "Name: count, Length: 11822, dtype: int64\n",
            "\n",
            "Top 5 recommendations:\n",
            "Recommended Anime\n",
            "Saru Kani Gassen                 2\n",
            "Shi Wan Ge Leng Xiaohua          2\n",
            "Nudl Nude 2                      1\n",
            "Nudl Nude                        1\n",
            "Sen to Chihiro no Kamikakushi    1\n",
            "Name: count, dtype: int64\n",
            "\n",
            "Recommendations for threshold 0.5:\n",
            "Recommended anime similar to 'Kimi no Na wa.':\n",
            "                                       Recommended Anime\n",
            "0                       Fullmetal Alchemist: Brotherhood\n",
            "1                                               Gintama°\n",
            "2                                            Steins;Gate\n",
            "3                                          Gintama&#039;\n",
            "4      Haikyuu!!: Karasuno Koukou VS Shiratorizawa Ga...\n",
            "...                                                  ...\n",
            "11813       Toushindai My Lover: Minami tai Mecha-Minami\n",
            "11814                                        Under World\n",
            "11815                     Violence Gekiga David no Hoshi\n",
            "11816  Violence Gekiga Shin David no Hoshi: Inma Dens...\n",
            "11817                   Yasuji no Pornorama: Yacchimae!!\n",
            "\n",
            "[11818 rows x 1 columns]\n",
            "\n",
            "Number of recommendations: 11818\n",
            "\n",
            "Value counts of recommended anime:\n",
            "Recommended Anime\n",
            "Saru Kani Gassen                                             2\n",
            "Shi Wan Ge Leng Xiaohua                                      2\n",
            "Haikyuu!!: Karasuno Koukou VS Shiratorizawa Gakuen Koukou    1\n",
            "Hunter x Hunter (2011)                                       1\n",
            "Ginga Eiyuu Densetsu                                         1\n",
            "                                                            ..\n",
            "Manga Edo Erobanashi                                         1\n",
            "Milky Gal: Cats Ai                                           1\n",
            "Misato-chan no Yume Nikki                                    1\n",
            "Nijuusou: Wana ni Ochita Onna-tachi                          1\n",
            "Gintama°                                                     1\n",
            "Name: count, Length: 11816, dtype: int64\n",
            "\n",
            "Top 5 recommendations:\n",
            "Recommended Anime\n",
            "Saru Kani Gassen                                             2\n",
            "Shi Wan Ge Leng Xiaohua                                      2\n",
            "Haikyuu!!: Karasuno Koukou VS Shiratorizawa Gakuen Koukou    1\n",
            "Hunter x Hunter (2011)                                       1\n",
            "Ginga Eiyuu Densetsu                                         1\n",
            "Name: count, dtype: int64\n",
            "\n",
            "Recommendations for threshold 0.9:\n",
            "Recommended anime similar to 'Kimi no Na wa.':\n",
            "                                       Recommended Anime\n",
            "0                       Fullmetal Alchemist: Brotherhood\n",
            "1                                               Gintama°\n",
            "2                                            Steins;Gate\n",
            "3                                          Gintama&#039;\n",
            "4      Haikyuu!!: Karasuno Koukou VS Shiratorizawa Ga...\n",
            "...                                                  ...\n",
            "11779       Toushindai My Lover: Minami tai Mecha-Minami\n",
            "11780                                        Under World\n",
            "11781                     Violence Gekiga David no Hoshi\n",
            "11782  Violence Gekiga Shin David no Hoshi: Inma Dens...\n",
            "11783                   Yasuji no Pornorama: Yacchimae!!\n",
            "\n",
            "[11784 rows x 1 columns]\n",
            "\n",
            "Number of recommendations: 11784\n",
            "\n",
            "Value counts of recommended anime:\n",
            "Recommended Anime\n",
            "Saru Kani Gassen                       2\n",
            "Shi Wan Ge Leng Xiaohua                2\n",
            "Fullmetal Alchemist: Brotherhood       1\n",
            "Gintama°                               1\n",
            "Steins;Gate                            1\n",
            "                                      ..\n",
            "Manga Edo Erobanashi                   1\n",
            "Milky Gal: Cats Ai                     1\n",
            "Misato-chan no Yume Nikki              1\n",
            "Nijuusou: Wana ni Ochita Onna-tachi    1\n",
            "Nudl Nude                              1\n",
            "Name: count, Length: 11782, dtype: int64\n",
            "\n",
            "Top 5 recommendations:\n",
            "Recommended Anime\n",
            "Saru Kani Gassen                    2\n",
            "Shi Wan Ge Leng Xiaohua             2\n",
            "Fullmetal Alchemist: Brotherhood    1\n",
            "Gintama°                            1\n",
            "Steins;Gate                         1\n",
            "Name: count, dtype: int64\n"
          ]
        }
      ],
      "source": [
        "threshold_values = [0.2, 0.5, 0.9]\n",
        "target_anime = 'Kimi no Na wa.'\n",
        "\n",
        "for threshold in threshold_values:\n",
        "    recommended_anime = recommend_similar_anime(target_anime, threshold=threshold)  #get recommendations for the current threshold\n",
        "    df_recommendations = pd.DataFrame(recommended_anime, columns=['Recommended Anime'])  #create a DataFrame to display the recommended anime\n",
        "\n",
        "    num_recommendations = len(recommended_anime)\n",
        "    value_counts = df_recommendations['Recommended Anime'].value_counts()\n",
        "    top_5_recommendations = value_counts.head(5)\n",
        "\n",
        "    #display the information for the current threshold\n",
        "    print(f\"\\nRecommendations for threshold {threshold}:\")\n",
        "    print(\"Recommended anime similar to '{}':\".format(target_anime))\n",
        "    print(df_recommendations)\n",
        "    print(\"\\nNumber of recommendations:\", num_recommendations)\n",
        "    print(\"\\nValue counts of recommended anime:\")\n",
        "    print(value_counts)\n",
        "    print(\"\\nTop 5 recommendations:\")\n",
        "    print(top_5_recommendations)"
      ]
    },
    {
      "cell_type": "markdown",
      "id": "252db893-0318-4567-ae5b-5301f973b8f8",
      "metadata": {
        "id": "252db893-0318-4567-ae5b-5301f973b8f8"
      },
      "source": [
        "#### Interview Questions"
      ]
    },
    {
      "cell_type": "code",
      "execution_count": null,
      "id": "a5b6034e-4bcb-4b7c-88a3-0cbd1ced7885",
      "metadata": {
        "id": "a5b6034e-4bcb-4b7c-88a3-0cbd1ced7885"
      },
      "outputs": [],
      "source": [
        "#1.Can you explain the difference between user-based and item-based collaborative filtering?\n",
        "\n",
        "#User-Based Collaborative Filtering: This approach recommends items to a user based on the\n",
        "#preferences of similar users. It calculates the similarity between users, often using\n",
        "#metrics like cosine similarity, Pearson correlation, or Jaccard similarity.\n",
        "\n",
        "#Item-Based Collaborative Filtering:This approach recommends items based on the similarity\n",
        "#between items rather than users. It calculates the similarity between items, typically\n",
        "#based on user interactions or ratings. Common metrics include cosine similarity and\n",
        "#adjusted cosine similarity."
      ]
    },
    {
      "cell_type": "code",
      "execution_count": null,
      "id": "aaf4f018-166e-4d10-86f5-9308970ddab2",
      "metadata": {
        "id": "aaf4f018-166e-4d10-86f5-9308970ddab2"
      },
      "outputs": [],
      "source": [
        "#2.What is collaborative filtering, and how does it work?\n",
        "\n",
        "#Collaborative filtering is a recommendation technique that predicts a user's preferences\n",
        "#based on the preferences and behaviors of other users. It operates on the idea that users\n",
        "#who have agreed in the past will likely agree in the future."
      ]
    },
    {
      "cell_type": "code",
      "execution_count": null,
      "id": "cdba1e22-dd11-4938-abb2-cf8e6d0f85d5",
      "metadata": {
        "id": "cdba1e22-dd11-4938-abb2-cf8e6d0f85d5"
      },
      "outputs": [],
      "source": []
    }
  ],
  "metadata": {
    "kernelspec": {
      "display_name": "Python [conda env:base] *",
      "language": "python",
      "name": "conda-base-py"
    },
    "language_info": {
      "codemirror_mode": {
        "name": "ipython",
        "version": 3
      },
      "file_extension": ".py",
      "mimetype": "text/x-python",
      "name": "python",
      "nbconvert_exporter": "python",
      "pygments_lexer": "ipython3",
      "version": "3.13.5"
    },
    "colab": {
      "provenance": []
    }
  },
  "nbformat": 4,
  "nbformat_minor": 5
}