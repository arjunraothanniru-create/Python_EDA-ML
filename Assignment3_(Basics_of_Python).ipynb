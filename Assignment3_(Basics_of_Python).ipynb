{
  "cells": [
    {
      "cell_type": "markdown",
      "id": "d868d39c-41de-4058-a243-62da113cc775",
      "metadata": {
        "id": "d868d39c-41de-4058-a243-62da113cc775"
      },
      "source": [
        "# Basics of Python"
      ]
    },
    {
      "cell_type": "markdown",
      "id": "a1903621-814e-4646-8fed-449dc0932dc1",
      "metadata": {
        "id": "a1903621-814e-4646-8fed-449dc0932dc1"
      },
      "source": [
        "#### Prime Numbers"
      ]
    },
    {
      "cell_type": "code",
      "execution_count": null,
      "id": "6ac3ae00-dedf-4052-9663-f9b38bb98675",
      "metadata": {
        "id": "6ac3ae00-dedf-4052-9663-f9b38bb98675",
        "outputId": "12b018ad-502b-46fe-a5e9-9af3fce161d5"
      },
      "outputs": [
        {
          "name": "stdin",
          "output_type": "stream",
          "text": [
            "Enter a number to check if it's prime:  23\n"
          ]
        },
        {
          "name": "stdout",
          "output_type": "stream",
          "text": [
            "23 is a prime number\n"
          ]
        }
      ],
      "source": [
        "def is_prime(n):\n",
        "    if n <= 1:\n",
        "        return False\n",
        "    elif n <= 3:\n",
        "        return True\n",
        "    elif n % 2 == 0 or n % 3 == 0:\n",
        "        return False\n",
        "    i = 5\n",
        "    while i * i <= n:\n",
        "        if n % i == 0 or n % (i + 2) == 0:\n",
        "            return False\n",
        "        i += 6\n",
        "    return True\n",
        "number = int(input(\"Enter a number to check if it's prime: \"))\n",
        "if is_prime(number):\n",
        "    print(number, \"is a prime number\")\n",
        "else:\n",
        "    print(number, \"is not a prime number\")"
      ]
    },
    {
      "cell_type": "markdown",
      "id": "15138e28-96b7-4eec-91ff-23cd803cad49",
      "metadata": {
        "id": "15138e28-96b7-4eec-91ff-23cd803cad49"
      },
      "source": [
        "#### Product of Random Numbers"
      ]
    },
    {
      "cell_type": "code",
      "execution_count": null,
      "id": "acd88577-3c29-4544-932f-a05f590ee590",
      "metadata": {
        "id": "acd88577-3c29-4544-932f-a05f590ee590",
        "outputId": "20124249-0d5b-4bc6-f834-aa73ca815775"
      },
      "outputs": [
        {
          "name": "stdout",
          "output_type": "stream",
          "text": [
            "Please enter the product of 12 and 8\n"
          ]
        },
        {
          "name": "stdin",
          "output_type": "stream",
          "text": [
            "Your answer:  96\n"
          ]
        },
        {
          "name": "stdout",
          "output_type": "stream",
          "text": [
            "Congratulations! Your answer is correct.\n"
          ]
        }
      ],
      "source": [
        "import random\n",
        "def generate_random_numbers():\n",
        "    num1 = random.randint(1, 15)\n",
        "    num2 = random.randint(1, 15)\n",
        "    return num1, num2\n",
        "def check_answer(num1, num2, user_answer):\n",
        "    correct_answer = num1 * num2\n",
        "    if user_answer == correct_answer:\n",
        "        return True\n",
        "    else:\n",
        "        return False\n",
        "num1, num2 = generate_random_numbers()\n",
        "print(\"Please enter the product of\", num1, \"and\", num2)\n",
        "user_answer = int(input(\"Your answer: \"))\n",
        "if check_answer(num1, num2, user_answer):\n",
        "    print(\"Congratulations! Your answer is correct.\")\n",
        "else:\n",
        "    print(\"Sorry, your answer is incorrect. The correct answer is:\", num1 * num2)"
      ]
    },
    {
      "cell_type": "markdown",
      "id": "064dffeb-2dd4-4dc0-b0b9-0544b45850a5",
      "metadata": {
        "id": "064dffeb-2dd4-4dc0-b0b9-0544b45850a5"
      },
      "source": [
        "#### Squares of Even/Odd Numbers"
      ]
    },
    {
      "cell_type": "code",
      "execution_count": null,
      "id": "fb828572-ec7c-4c08-9bd1-ebbf24acb70c",
      "metadata": {
        "id": "fb828572-ec7c-4c08-9bd1-ebbf24acb70c",
        "outputId": "89ba35a7-27ce-4197-b349-cc70b731da91"
      },
      "outputs": [
        {
          "name": "stdout",
          "output_type": "stream",
          "text": [
            "Squares of even numbers within the range of 100 to 200:\n",
            "100 : 10000\n",
            "102 : 10404\n",
            "104 : 10816\n",
            "106 : 11236\n",
            "108 : 11664\n",
            "110 : 12100\n",
            "112 : 12544\n",
            "114 : 12996\n",
            "116 : 13456\n",
            "118 : 13924\n",
            "120 : 14400\n",
            "122 : 14884\n",
            "124 : 15376\n",
            "126 : 15876\n",
            "128 : 16384\n",
            "130 : 16900\n",
            "132 : 17424\n",
            "134 : 17956\n",
            "136 : 18496\n",
            "138 : 19044\n",
            "140 : 19600\n",
            "142 : 20164\n",
            "144 : 20736\n",
            "146 : 21316\n",
            "148 : 21904\n",
            "150 : 22500\n",
            "152 : 23104\n",
            "154 : 23716\n",
            "156 : 24336\n",
            "158 : 24964\n",
            "160 : 25600\n",
            "162 : 26244\n",
            "164 : 26896\n",
            "166 : 27556\n",
            "168 : 28224\n",
            "170 : 28900\n",
            "172 : 29584\n",
            "174 : 30276\n",
            "176 : 30976\n",
            "178 : 31684\n",
            "180 : 32400\n",
            "182 : 33124\n",
            "184 : 33856\n",
            "186 : 34596\n",
            "188 : 35344\n",
            "190 : 36100\n",
            "192 : 36864\n",
            "194 : 37636\n",
            "196 : 38416\n",
            "198 : 39204\n",
            "200 : 40000\n"
          ]
        }
      ],
      "source": [
        "def print_even_squares():\n",
        "    print(\"Squares of even numbers within the range of 100 to 200:\")\n",
        "    for num in range(100, 201):\n",
        "        if num % 2 == 0:  # Choosing even numbers\n",
        "            print(num, \":\", num ** 2)\n",
        "\n",
        "# Call the function to print squares of even numbers\n",
        "print_even_squares()"
      ]
    },
    {
      "cell_type": "markdown",
      "id": "dcb14350-2923-4071-942a-ef8d4ba1de98",
      "metadata": {
        "id": "dcb14350-2923-4071-942a-ef8d4ba1de98"
      },
      "source": [
        "#### Word Counter"
      ]
    },
    {
      "cell_type": "code",
      "execution_count": null,
      "id": "e14595cd-1ef0-4c2a-9964-27a5ad0e5906",
      "metadata": {
        "id": "e14595cd-1ef0-4c2a-9964-27a5ad0e5906",
        "outputId": "30a9e4d3-65fc-4b15-c2bf-9f68516964dd"
      },
      "outputs": [
        {
          "name": "stdout",
          "output_type": "stream",
          "text": [
            "'this': 2\n",
            "'is': 1\n",
            "'a': 1\n",
            "'sample': 1\n",
            "'text': 2\n",
            "'will': 1\n",
            "'be': 1\n",
            "'used': 1\n",
            "'to': 1\n",
            "'demonstrate': 1\n",
            "'the': 1\n",
            "'word': 1\n",
            "'counter': 1\n"
          ]
        }
      ],
      "source": [
        "def word_counter(input_text):\n",
        "    words = input_text.split()  #Split the input text into words\n",
        "    word_count = {}  #Create a dictionary to store word counts\n",
        "    for word in words:\n",
        "        word = word.strip('.,!?:;\"\\'').lower()\n",
        "        word_count[word] = word_count.get(word, 0) + 1  #counts the occurrences of each word\n",
        "    for word, count in word_count.items():\n",
        "        print(f\"'{word}': {count}\")    #Prints the word counts\n",
        "input_text = \"This is a sample text. This text will be used to demonstrate the word counter.\"\n",
        "word_counter(input_text)"
      ]
    },
    {
      "cell_type": "markdown",
      "id": "fb87d3fc-a3ac-4ffb-b289-889ede54cd57",
      "metadata": {
        "id": "fb87d3fc-a3ac-4ffb-b289-889ede54cd57"
      },
      "source": [
        "#### Check for Palindrome"
      ]
    },
    {
      "cell_type": "code",
      "execution_count": null,
      "id": "02928f69-1733-498e-8468-0ef5fbd40378",
      "metadata": {
        "id": "02928f69-1733-498e-8468-0ef5fbd40378",
        "outputId": "f2449a8b-8643-431a-a413-68858532d0c5"
      },
      "outputs": [
        {
          "name": "stdout",
          "output_type": "stream",
          "text": [
            "True\n"
          ]
        }
      ],
      "source": [
        "def is_palindrome(s):\n",
        "    s = ''.join(char.lower() for char in s if char.isalnum()) #Convert the string to lowercase and remove spaces and punctuation\n",
        "    return s == s[::-1]  # Check if the string is equal to its reverse\n",
        "\n",
        "input_str = \"racecar\"\n",
        "print(is_palindrome(input_str))"
      ]
    },
    {
      "cell_type": "code",
      "execution_count": null,
      "id": "b6ac5a8e-87d6-48c6-bf68-a0bcca90aea9",
      "metadata": {
        "id": "b6ac5a8e-87d6-48c6-bf68-a0bcca90aea9"
      },
      "outputs": [],
      "source": []
    }
  ],
  "metadata": {
    "kernelspec": {
      "display_name": "Python [conda env:base] *",
      "language": "python",
      "name": "conda-base-py"
    },
    "language_info": {
      "codemirror_mode": {
        "name": "ipython",
        "version": 3
      },
      "file_extension": ".py",
      "mimetype": "text/x-python",
      "name": "python",
      "nbconvert_exporter": "python",
      "pygments_lexer": "ipython3",
      "version": "3.13.5"
    },
    "colab": {
      "provenance": []
    }
  },
  "nbformat": 4,
  "nbformat_minor": 5
}