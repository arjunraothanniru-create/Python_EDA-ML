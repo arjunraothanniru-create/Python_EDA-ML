{
  "cells": [
    {
      "cell_type": "markdown",
      "id": "52ef326e-a802-4471-9109-51f5b1eb9a5b",
      "metadata": {
        "id": "52ef326e-a802-4471-9109-51f5b1eb9a5b"
      },
      "source": [
        "# Estimation and Confidence Intervals"
      ]
    },
    {
      "cell_type": "code",
      "execution_count": 1,
      "id": "fcf7bb5d-e476-4c5a-a3a5-e0da5ec13e7e",
      "metadata": {
        "id": "fcf7bb5d-e476-4c5a-a3a5-e0da5ec13e7e"
      },
      "outputs": [],
      "source": [
        "import numpy as np\n",
        "from scipy.stats import t"
      ]
    },
    {
      "cell_type": "code",
      "execution_count": 2,
      "id": "ebf7a7d2-ac01-4942-aa66-a7ac02b36d4c",
      "metadata": {
        "id": "ebf7a7d2-ac01-4942-aa66-a7ac02b36d4c"
      },
      "outputs": [],
      "source": [
        "# Sample data\n",
        "data = np.array([1.13, 1.55, 1.43, 0.92, 1.25, 1.36, 1.32, 0.85, 1.07, 1.48, 1.20, 1.33, 1.18, 1.22, 1.29])\n",
        "sample_mean = np.mean(data)\n",
        "sample_std = np.std(data, ddof=1)  # ddof=1 for sample standard deviation\n",
        "sample_size = len(data)"
      ]
    },
    {
      "cell_type": "code",
      "execution_count": 3,
      "id": "b7c11e36-d6db-4ed9-8045-672ca388228a",
      "metadata": {
        "colab": {
          "base_uri": "https://localhost:8080/"
        },
        "id": "b7c11e36-d6db-4ed9-8045-672ca388228a",
        "outputId": "b0295add-0c7b-4a9a-d186-20d6759c587f"
      },
      "outputs": [
        {
          "output_type": "execute_result",
          "data": {
            "text/plain": [
              "np.float64(1.2386666666666666)"
            ]
          },
          "metadata": {},
          "execution_count": 3
        }
      ],
      "source": [
        "sample_mean"
      ]
    },
    {
      "cell_type": "code",
      "execution_count": 4,
      "id": "b652e111-5042-4a77-8f8b-35a5434beb5a",
      "metadata": {
        "colab": {
          "base_uri": "https://localhost:8080/"
        },
        "id": "b652e111-5042-4a77-8f8b-35a5434beb5a",
        "outputId": "a44a3132-ac7e-4c1b-ef43-761d417d8e66"
      },
      "outputs": [
        {
          "output_type": "execute_result",
          "data": {
            "text/plain": [
              "np.float64(0.19316412956959936)"
            ]
          },
          "metadata": {},
          "execution_count": 4
        }
      ],
      "source": [
        "sample_std"
      ]
    },
    {
      "cell_type": "code",
      "execution_count": 5,
      "id": "9c0f1c44-536f-484f-9f86-b0d01c14ce15",
      "metadata": {
        "colab": {
          "base_uri": "https://localhost:8080/"
        },
        "id": "9c0f1c44-536f-484f-9f86-b0d01c14ce15",
        "outputId": "3695fc87-6423-4dc6-9f83-c1451d23aa28"
      },
      "outputs": [
        {
          "output_type": "execute_result",
          "data": {
            "text/plain": [
              "15"
            ]
          },
          "metadata": {},
          "execution_count": 5
        }
      ],
      "source": [
        "sample_size"
      ]
    },
    {
      "cell_type": "code",
      "execution_count": 6,
      "id": "9e950f3b-d61b-41ca-af03-cb3c493f6773",
      "metadata": {
        "id": "9e950f3b-d61b-41ca-af03-cb3c493f6773"
      },
      "outputs": [],
      "source": [
        "#Confidence interval using sample standard deviation\n",
        "confidence_level = 0.99\n",
        "alpha = 1 - confidence_level\n",
        "t_value = t.ppf(1 - alpha/2, df=sample_size - 1)\n",
        "margin_of_error1 = t_value * sample_std / np.sqrt(sample_size)\n",
        "confidence_interval1 = (sample_mean - margin_of_error1, sample_mean + margin_of_error1)"
      ]
    },
    {
      "cell_type": "code",
      "execution_count": 7,
      "id": "0271b4e6-9e3d-4d0a-a8bb-dd3f4ef476bf",
      "metadata": {
        "colab": {
          "base_uri": "https://localhost:8080/"
        },
        "id": "0271b4e6-9e3d-4d0a-a8bb-dd3f4ef476bf",
        "outputId": "38742ea9-e128-4242-8c8f-8979e8910f0f"
      },
      "outputs": [
        {
          "output_type": "execute_result",
          "data": {
            "text/plain": [
              "(np.float64(1.0901973384384906), np.float64(1.3871359948948425))"
            ]
          },
          "metadata": {},
          "execution_count": 7
        }
      ],
      "source": [
        "confidence_interval1"
      ]
    },
    {
      "cell_type": "code",
      "execution_count": 8,
      "id": "f98469dd-34ac-4630-a0f9-23448de5a831",
      "metadata": {
        "id": "f98469dd-34ac-4630-a0f9-23448de5a831"
      },
      "outputs": [],
      "source": [
        "#Confidence interval using known population standard deviation\n",
        "population_std = 0.2\n",
        "z_value = t.ppf(1 - alpha/2, df=sample_size - 1)  # Using t-distribution for small sample size\n",
        "margin_of_error2 = z_value * population_std / np.sqrt(sample_size)\n",
        "confidence_interval2 = (sample_mean - margin_of_error2, sample_mean + margin_of_error2)"
      ]
    },
    {
      "cell_type": "code",
      "execution_count": 9,
      "id": "a9706ea2-84aa-468e-aa7b-218b0104bbaf",
      "metadata": {
        "colab": {
          "base_uri": "https://localhost:8080/"
        },
        "id": "a9706ea2-84aa-468e-aa7b-218b0104bbaf",
        "outputId": "07e0d761-263b-45ce-ee46-a75ddd3e767a"
      },
      "outputs": [
        {
          "output_type": "execute_result",
          "data": {
            "text/plain": [
              "(np.float64(1.0849431688733762), np.float64(1.392390164459957))"
            ]
          },
          "metadata": {},
          "execution_count": 9
        }
      ],
      "source": [
        "confidence_interval2"
      ]
    },
    {
      "cell_type": "code",
      "execution_count": 10,
      "id": "7ce33860-4b3d-4e87-a387-5e47290a7b6b",
      "metadata": {
        "colab": {
          "base_uri": "https://localhost:8080/"
        },
        "id": "7ce33860-4b3d-4e87-a387-5e47290a7b6b",
        "outputId": "8a881edf-2b2c-4203-c29a-642c6640e296"
      },
      "outputs": [
        {
          "output_type": "stream",
          "name": "stdout",
          "text": [
            "Confidence Interval Using Sample Standard Deviation: (np.float64(1.0901973384384906), np.float64(1.3871359948948425))\n",
            "Confidence Interval Using Known Population Standard Deviation: (np.float64(1.0849431688733762), np.float64(1.392390164459957))\n"
          ]
        }
      ],
      "source": [
        "print(\"Confidence Interval Using Sample Standard Deviation:\", confidence_interval1)\n",
        "print(\"Confidence Interval Using Known Population Standard Deviation:\", confidence_interval2)"
      ]
    },
    {
      "cell_type": "code",
      "execution_count": 10,
      "id": "e678f948-e73d-4a5f-8907-78d5b5dad4b5",
      "metadata": {
        "id": "e678f948-e73d-4a5f-8907-78d5b5dad4b5"
      },
      "outputs": [],
      "source": []
    }
  ],
  "metadata": {
    "kernelspec": {
      "display_name": "Python [conda env:base] *",
      "language": "python",
      "name": "conda-base-py"
    },
    "language_info": {
      "codemirror_mode": {
        "name": "ipython",
        "version": 3
      },
      "file_extension": ".py",
      "mimetype": "text/x-python",
      "name": "python",
      "nbconvert_exporter": "python",
      "pygments_lexer": "ipython3",
      "version": "3.13.5"
    },
    "colab": {
      "provenance": []
    }
  },
  "nbformat": 4,
  "nbformat_minor": 5
}