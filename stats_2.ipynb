{
  "nbformat": 4,
  "nbformat_minor": 0,
  "metadata": {
    "colab": {
      "provenance": []
    },
    "kernelspec": {
      "name": "python3",
      "display_name": "Python 3"
    },
    "language_info": {
      "name": "python"
    }
  },
  "cells": [
    {
      "cell_type": "code",
      "source": [
        "#higher confidence level means  it has wider interval and with means precision is less\n",
        "#lower confidence level means less interval and precison will be more\n",
        "# ( indirectly propotion ) the more ci the less precision the more less ci the more precision\n",
        "# type one error and type 2 error ( risk of error)\n",
        "  # sometimes depends on sample size too\n",
        "\n",
        "  # in medical needs 99 or more  for safty\n",
        "  # coming to the businees side they maintain 90  percentage or 95 percentage (which is fair )"
      ],
      "metadata": {
        "id": "LE3UQoABWRAn"
      },
      "execution_count": null,
      "outputs": []
    },
    {
      "cell_type": "code",
      "source": [
        "#2) wehn the sample size is small we dont know the population std deviation\n",
        "# we estimate it from sample\n",
        "#sometimes if sample size is less than 30 we use t_distribution"
      ],
      "metadata": {
        "id": "cHPbBJkgWQa_"
      },
      "execution_count": 26,
      "outputs": []
    },
    {
      "cell_type": "code",
      "execution_count": 1,
      "metadata": {
        "id": "4r3Wd_THHfe1"
      },
      "outputs": [],
      "source": [
        "import numpy as np\n",
        "from scipy import stats"
      ]
    },
    {
      "cell_type": "code",
      "source": [
        "#_______3__________________________\n",
        "sample_mean = 165\n",
        "sample_std = 8\n",
        "n = 30\n",
        "confidence = 0.99"
      ],
      "metadata": {
        "id": "NjJUq5GEH8Hg"
      },
      "execution_count": 5,
      "outputs": []
    },
    {
      "cell_type": "code",
      "source": [
        "# Degrees of freedom\n",
        "df = n - 1"
      ],
      "metadata": {
        "id": "2dtM7c79SEdc"
      },
      "execution_count": 6,
      "outputs": []
    },
    {
      "cell_type": "code",
      "source": [
        "t_critical = stats.t.ppf((1 + confidence) / 2, df)"
      ],
      "metadata": {
        "id": "GXZPd1ZBSJsm"
      },
      "execution_count": 7,
      "outputs": []
    },
    {
      "cell_type": "code",
      "source": [
        "std_error = sample_std / (n ** 0.5)"
      ],
      "metadata": {
        "id": "jVys4rJMSNsD"
      },
      "execution_count": 8,
      "outputs": []
    },
    {
      "cell_type": "code",
      "source": [
        "margin_of_error = t_critical * std_error"
      ],
      "metadata": {
        "id": "gzn3StyXSQ0k"
      },
      "execution_count": 9,
      "outputs": []
    },
    {
      "cell_type": "code",
      "source": [
        "l_b = sample_mean - margin_of_error      #lower and upper bound\n",
        "u_b = sample_mean + margin_of_error"
      ],
      "metadata": {
        "id": "J8wuTTG4SQsw"
      },
      "execution_count": 11,
      "outputs": []
    },
    {
      "cell_type": "code",
      "source": [
        "print(f\"99% Confidence Interval: ({l_b:.2f} cm, {u_b:.2f} cm)\")"
      ],
      "metadata": {
        "colab": {
          "base_uri": "https://localhost:8080/"
        },
        "id": "QPcXzaXiShI6",
        "outputId": "fbd30464-aad5-4630-dc55-82f76cb0cbac"
      },
      "execution_count": 12,
      "outputs": [
        {
          "output_type": "stream",
          "name": "stdout",
          "text": [
            "99% Confidence Interval: (160.97 cm, 169.03 cm)\n"
          ]
        }
      ]
    },
    {
      "cell_type": "code",
      "source": [
        "#----------------------4----------------------------"
      ],
      "metadata": {
        "id": "eJrstg4ASsf5"
      },
      "execution_count": null,
      "outputs": []
    },
    {
      "cell_type": "code",
      "source": [
        "mean = 50\n",
        "variance = 16\n",
        "n = 25\n",
        "confidence = 0.90\n",
        "std = variance ** 0.5\n",
        "df = n - 1\n"
      ],
      "metadata": {
        "id": "EqGhty3jS14o"
      },
      "execution_count": 14,
      "outputs": []
    },
    {
      "cell_type": "code",
      "source": [
        "t_critical = stats.t.ppf((1 + confidence) / 2, df)\n",
        "std_error = std / (n ** 0.5)\n",
        "margin_error = t_critical * std_error"
      ],
      "metadata": {
        "id": "nDfZ6BnUTgdN"
      },
      "execution_count": 15,
      "outputs": []
    },
    {
      "cell_type": "code",
      "source": [
        "lower = mean - margin_error\n",
        "upper = mean + margin_error"
      ],
      "metadata": {
        "id": "jMWGCExnTuvd"
      },
      "execution_count": 16,
      "outputs": []
    },
    {
      "cell_type": "code",
      "source": [
        "print(f\"90% Confidence Interval: ({lower:.2f} kg, {upper:.2f} kg)\")"
      ],
      "metadata": {
        "colab": {
          "base_uri": "https://localhost:8080/"
        },
        "id": "H_tyYEI2Tyus",
        "outputId": "cdaedad8-64c1-4b29-dc9b-3978a2d84695"
      },
      "execution_count": 17,
      "outputs": [
        {
          "output_type": "stream",
          "name": "stdout",
          "text": [
            "90% Confidence Interval: (48.63 kg, 51.37 kg)\n"
          ]
        }
      ]
    },
    {
      "cell_type": "code",
      "source": [
        "#===============================5========================="
      ],
      "metadata": {
        "id": "0RUkM0UJT3Zl"
      },
      "execution_count": null,
      "outputs": []
    },
    {
      "cell_type": "code",
      "source": [
        "data = [45, 50, 55, 60, 65]\n"
      ],
      "metadata": {
        "id": "z5g6SBUWVhkv"
      },
      "execution_count": 18,
      "outputs": []
    },
    {
      "cell_type": "code",
      "source": [
        "mean = np.mean(data)\n",
        "std = np.std(data, ddof=1)  # sample standard deviation\n",
        "n = len(data)\n",
        "confidence = 0.95\n",
        "df = n - 1\n",
        "t_critical = stats.t.ppf((1 + confidence) / 2, df)"
      ],
      "metadata": {
        "id": "XQdvAiREVjoz"
      },
      "execution_count": 19,
      "outputs": []
    },
    {
      "cell_type": "code",
      "source": [
        "std_error = std / np.sqrt(n)\n",
        "margin_error = t_critical * std_error"
      ],
      "metadata": {
        "id": "RUDKkHfLVrmV"
      },
      "execution_count": 20,
      "outputs": []
    },
    {
      "cell_type": "code",
      "source": [
        "lower = mean - margin_error\n",
        "upper = mean + margin_error"
      ],
      "metadata": {
        "id": "nz5gOdWbVx7x"
      },
      "execution_count": 21,
      "outputs": []
    },
    {
      "cell_type": "code",
      "source": [
        "print(f\"95% Confidence Interval: ({lower:.2f}, {upper:.2f})\")"
      ],
      "metadata": {
        "colab": {
          "base_uri": "https://localhost:8080/"
        },
        "id": "Z8iVDXoRV0v1",
        "outputId": "78132011-718e-4819-f97f-f610c65eae97"
      },
      "execution_count": 22,
      "outputs": [
        {
          "output_type": "stream",
          "name": "stdout",
          "text": [
            "95% Confidence Interval: (45.18, 64.82)\n"
          ]
        }
      ]
    }
  ]
}