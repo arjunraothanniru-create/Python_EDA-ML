{
  "cells": [
    {
      "cell_type": "markdown",
      "id": "cff16e09-292c-45d9-a2ed-6038720f1063",
      "metadata": {
        "id": "cff16e09-292c-45d9-a2ed-6038720f1063"
      },
      "source": [
        "# ChiSquare Test"
      ]
    },
    {
      "cell_type": "code",
      "execution_count": null,
      "id": "63a1b5fb-71dd-434d-ac90-00c04cff683b",
      "metadata": {
        "id": "63a1b5fb-71dd-434d-ac90-00c04cff683b"
      },
      "outputs": [],
      "source": [
        "import numpy as np\n",
        "from scipy.stats import chi2_contingency"
      ]
    },
    {
      "cell_type": "code",
      "execution_count": null,
      "id": "7128434c-b245-4a12-a030-ecf4f3a0b061",
      "metadata": {
        "id": "7128434c-b245-4a12-a030-ecf4f3a0b061"
      },
      "outputs": [],
      "source": [
        "observed = np.array([[50, 70],[80, 100],[60, 90],[30, 50],[20, 50]]) # Contingency table data"
      ]
    },
    {
      "cell_type": "code",
      "execution_count": null,
      "id": "d751f439-6b45-4e30-96eb-83fea0f8ffc1",
      "metadata": {
        "id": "d751f439-6b45-4e30-96eb-83fea0f8ffc1"
      },
      "outputs": [],
      "source": [
        "chi2, p, dof, expected = chi2_contingency(observed) #chi-square test for independence"
      ]
    },
    {
      "cell_type": "code",
      "execution_count": null,
      "id": "9b122838-7b38-4e93-af19-18110c12c9ff",
      "metadata": {
        "id": "9b122838-7b38-4e93-af19-18110c12c9ff",
        "outputId": "61dec533-bede-4184-ca8f-ce16e736938b"
      },
      "outputs": [
        {
          "name": "stdout",
          "output_type": "stream",
          "text": [
            "Chi-Square Statistic: 5.638227513227513\n",
            "Degrees of Freedom: 4\n",
            "p-value: 0.22784371130697179\n"
          ]
        }
      ],
      "source": [
        "print(\"Chi-Square Statistic:\", chi2)\n",
        "print(\"Degrees of Freedom:\", dof)\n",
        "print(\"p-value:\", p)"
      ]
    },
    {
      "cell_type": "code",
      "execution_count": null,
      "id": "88bce31e-4a79-4024-941d-62ffa98e6c79",
      "metadata": {
        "id": "88bce31e-4a79-4024-941d-62ffa98e6c79"
      },
      "outputs": [],
      "source": [
        "alpha = 0.05\n",
        "critical_value = chi2_contingency(np.array([[1, 1], [1, 1]]))[0]  # Degrees of freedom = (rows - 1) * (columns - 1)"
      ]
    },
    {
      "cell_type": "code",
      "execution_count": null,
      "id": "107dc040-929a-488e-baf5-9eebb6317d0f",
      "metadata": {
        "id": "107dc040-929a-488e-baf5-9eebb6317d0f",
        "outputId": "ae92b144-416b-4ca1-b0ce-226b9cf42ff5"
      },
      "outputs": [
        {
          "name": "stdout",
          "output_type": "stream",
          "text": [
            "Critical Value: 0.0\n"
          ]
        }
      ],
      "source": [
        "print(\"Critical Value:\", critical_value)"
      ]
    },
    {
      "cell_type": "code",
      "execution_count": null,
      "id": "4d683d22-0456-4a0a-8ffa-361d2f1dcbf4",
      "metadata": {
        "id": "4d683d22-0456-4a0a-8ffa-361d2f1dcbf4",
        "outputId": "87d8077a-2202-4544-8b69-9e9b71632b28"
      },
      "outputs": [
        {
          "name": "stdout",
          "output_type": "stream",
          "text": [
            "Reject the null hypothesis: There is a significant association between device type and customer satisfaction.\n"
          ]
        }
      ],
      "source": [
        "if chi2 > critical_value:\n",
        "    print(\"Reject the null hypothesis: There is a significant association between device type and customer satisfaction.\")\n",
        "else:\n",
        "    print(\"Fail to reject the null hypothesis: There is no significant association between device type and customer satisfaction.\")"
      ]
    },
    {
      "cell_type": "markdown",
      "id": "764c767c-0edc-4b8e-bde7-ae916ba86261",
      "metadata": {
        "id": "764c767c-0edc-4b8e-bde7-ae916ba86261"
      },
      "source": [
        "# Hypothesis Testing"
      ]
    },
    {
      "cell_type": "code",
      "execution_count": null,
      "id": "38e875b0-989b-416b-9504-a26f000e9cec",
      "metadata": {
        "id": "38e875b0-989b-416b-9504-a26f000e9cec"
      },
      "outputs": [],
      "source": [
        "import numpy as np\n",
        "from scipy.stats import t"
      ]
    },
    {
      "cell_type": "code",
      "execution_count": null,
      "id": "99fa41c9-a310-4204-9d5b-657876119616",
      "metadata": {
        "id": "99fa41c9-a310-4204-9d5b-657876119616"
      },
      "outputs": [],
      "source": [
        "sample_mean = 3050  #sample mean weekly cost\n",
        "theoretical_mean = 1000 + 5 * 600  #theoretical mean weekly cost according to the cost model (W = $1,000 + $5X for X = 600 units)\n",
        "standard_deviation = 5 * 25  #standard deviation of the population\n",
        "sample_size = 25  #sample size\n",
        "alpha = 0.05  #significance level"
      ]
    },
    {
      "cell_type": "code",
      "execution_count": null,
      "id": "ff66a1d7-6c84-4b63-a619-90b85e04ec57",
      "metadata": {
        "id": "ff66a1d7-6c84-4b63-a619-90b85e04ec57"
      },
      "outputs": [],
      "source": [
        "#Calculate the test statistic (t)\n",
        "standard_error = standard_deviation / np.sqrt(sample_size)\n",
        "t_statistic = (sample_mean - theoretical_mean) / standard_error"
      ]
    },
    {
      "cell_type": "code",
      "execution_count": null,
      "id": "8ba16d3d-9b44-486d-b180-b15788750ce5",
      "metadata": {
        "id": "8ba16d3d-9b44-486d-b180-b15788750ce5",
        "outputId": "89734f31-1b2c-42ba-9c06-cee48eb6daf7"
      },
      "outputs": [
        {
          "data": {
            "text/plain": [
              "np.float64(-38.0)"
            ]
          },
          "execution_count": 14,
          "metadata": {},
          "output_type": "execute_result"
        }
      ],
      "source": [
        "t_statistic"
      ]
    },
    {
      "cell_type": "code",
      "execution_count": null,
      "id": "28dd6f91-4671-4474-a700-8010bc2297a1",
      "metadata": {
        "id": "28dd6f91-4671-4474-a700-8010bc2297a1"
      },
      "outputs": [],
      "source": [
        "#Determine the critical value from the t-distribution\n",
        "degrees_of_freedom = sample_size - 1\n",
        "critical_value = t.ppf(1 - alpha, degrees_of_freedom)"
      ]
    },
    {
      "cell_type": "code",
      "execution_count": null,
      "id": "6759d0ef-8dc4-48f6-802e-32517651deae",
      "metadata": {
        "id": "6759d0ef-8dc4-48f6-802e-32517651deae",
        "outputId": "b4c72c7d-0f40-4d32-96e2-fbe3aabda27e"
      },
      "outputs": [
        {
          "data": {
            "text/plain": [
              "np.float64(1.7108820799094275)"
            ]
          },
          "execution_count": 13,
          "metadata": {},
          "output_type": "execute_result"
        }
      ],
      "source": [
        "critical_value"
      ]
    },
    {
      "cell_type": "code",
      "execution_count": null,
      "id": "fdffe814-09db-45a0-a956-837afc818e72",
      "metadata": {
        "id": "fdffe814-09db-45a0-a956-837afc818e72",
        "outputId": "bd0ee0d3-bf86-4c52-ab1a-4bd8dc380785"
      },
      "outputs": [
        {
          "name": "stdout",
          "output_type": "stream",
          "text": [
            "Fail to reject the null hypothesis: The weekly operating cost follows the theoretical model\n"
          ]
        }
      ],
      "source": [
        "if t_statistic > critical_value:\n",
        "    print(\"Reject the null hypothesis.The weekly operating cost does not follows the theoretical model\")\n",
        "else:\n",
        "    print(\"Fail to reject the null hypothesis: The weekly operating cost follows the theoretical model\")"
      ]
    },
    {
      "cell_type": "code",
      "execution_count": null,
      "id": "842c6aa2-040a-4014-9169-330d505ce9e9",
      "metadata": {
        "id": "842c6aa2-040a-4014-9169-330d505ce9e9"
      },
      "outputs": [],
      "source": []
    }
  ],
  "metadata": {
    "kernelspec": {
      "display_name": "Python [conda env:base] *",
      "language": "python",
      "name": "conda-base-py"
    },
    "language_info": {
      "codemirror_mode": {
        "name": "ipython",
        "version": 3
      },
      "file_extension": ".py",
      "mimetype": "text/x-python",
      "name": "python",
      "nbconvert_exporter": "python",
      "pygments_lexer": "ipython3",
      "version": "3.13.5"
    },
    "colab": {
      "provenance": []
    }
  },
  "nbformat": 4,
  "nbformat_minor": 5
}